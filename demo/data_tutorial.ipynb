{
 "cells": [
  {
   "cell_type": "markdown",
   "id": "1bfb253a",
   "metadata": {},
   "source": [
    "## (1) Load Processed Data in the Paper\n",
    "\n",
    "Currently, we support norman / adamson / dixit."
   ]
  },
  {
   "cell_type": "code",
   "execution_count": 1,
   "id": "bcf13714",
   "metadata": {},
   "outputs": [
    {
     "name": "stderr",
     "output_type": "stream",
     "text": [
      "Downloading...\n",
      "100%|█████████████████████████████████████████████████████████████████████| 169M/169M [00:36<00:00, 4.59MiB/s]\n",
      "Extracting zip file...\n",
      "Done!\n",
      "Creating pyg object for each cell in the data...\n",
      "100%|███████████████████████████████████████████████████████████████████████| 284/284 [04:01<00:00,  1.18it/s]\n",
      "Saving new dataset pyg object at ./data/norman/data_pyg/cell_graphs.pkl\n",
      "Done!\n",
      "Creating new splits....\n",
      "Saving new splits at ./data/norman/splits/norman_simulation_1_0.75.pkl\n",
      "Simulation split test composition:\n",
      "combo_seen0:9\n",
      "combo_seen1:52\n",
      "combo_seen2:18\n",
      "unseen_single:37\n",
      "Done!\n",
      "Creating dataloaders....\n",
      "Done!\n"
     ]
    }
   ],
   "source": [
    "import sys\n",
    "sys.path.append('../')\n",
    "\n",
    "from pertnet import PertData\n",
    "\n",
    "pert_data = PertData('./data') # specific saved folder\n",
    "pert_data.load(data_name = 'norman') # specific dataset name\n",
    "pert_data.prepare_split(split = 'simulation', seed = 1) # get data split with seed\n",
    "pert_data.get_dataloader(batch_size = 32, test_batch_size = 128) # prepare data loader"
   ]
  },
  {
   "cell_type": "markdown",
   "id": "22049187",
   "metadata": {},
   "source": [
    "## (2) Create your own Perturb-Seq data\n",
    "Prepare a scanpy adata object with \n",
    "1. `adata.obs` dataframe has `condition` and `cell_type` columns, where `condition` is the perturbation name for each cell. Control cells have condition format of `ctrl`, single perturbation has condition format of `A+ctrl` or `ctrl+A`, combination perturbation has condition format of `A+B`.\n",
    "2. `adata.var` dataframe has `gene_name` column, where each gene name is the gene symbol.\n",
    "3. `adata.X` stores the post-perturbed gene expression. \n",
    "\n",
    "Here an example using dixit 2016 dataset."
   ]
  },
  {
   "cell_type": "code",
   "execution_count": 2,
   "id": "fe7ee902",
   "metadata": {},
   "outputs": [
    {
     "data": {
      "text/plain": [
       "AnnData object with n_obs × n_vars = 44735 × 5012\n",
       "    obs: 'condition', 'cell_type'\n",
       "    var: 'gene_name'"
      ]
     },
     "execution_count": 2,
     "metadata": {},
     "output_type": "execute_result"
    }
   ],
   "source": [
    "import scanpy as sc\n",
    "adata = sc.read_h5ad('sample_adata.h5ad')\n",
    "adata"
   ]
  },
  {
   "cell_type": "code",
   "execution_count": 3,
   "id": "4f7cd798",
   "metadata": {},
   "outputs": [
    {
     "data": {
      "text/html": [
       "<div>\n",
       "<style scoped>\n",
       "    .dataframe tbody tr th:only-of-type {\n",
       "        vertical-align: middle;\n",
       "    }\n",
       "\n",
       "    .dataframe tbody tr th {\n",
       "        vertical-align: top;\n",
       "    }\n",
       "\n",
       "    .dataframe thead th {\n",
       "        text-align: right;\n",
       "    }\n",
       "</style>\n",
       "<table border=\"1\" class=\"dataframe\">\n",
       "  <thead>\n",
       "    <tr style=\"text-align: right;\">\n",
       "      <th></th>\n",
       "      <th>gene_name</th>\n",
       "    </tr>\n",
       "  </thead>\n",
       "  <tbody>\n",
       "    <tr>\n",
       "      <th>2</th>\n",
       "      <td>A1BG-AS1</td>\n",
       "    </tr>\n",
       "    <tr>\n",
       "      <th>7</th>\n",
       "      <td>AAK1</td>\n",
       "    </tr>\n",
       "  </tbody>\n",
       "</table>\n",
       "</div>"
      ],
      "text/plain": [
       "  gene_name\n",
       "2  A1BG-AS1\n",
       "7      AAK1"
      ]
     },
     "execution_count": 3,
     "metadata": {},
     "output_type": "execute_result"
    }
   ],
   "source": [
    "adata.var.head(2)"
   ]
  },
  {
   "cell_type": "code",
   "execution_count": 4,
   "id": "9924319e",
   "metadata": {},
   "outputs": [
    {
     "data": {
      "text/html": [
       "<div>\n",
       "<style scoped>\n",
       "    .dataframe tbody tr th:only-of-type {\n",
       "        vertical-align: middle;\n",
       "    }\n",
       "\n",
       "    .dataframe tbody tr th {\n",
       "        vertical-align: top;\n",
       "    }\n",
       "\n",
       "    .dataframe thead th {\n",
       "        text-align: right;\n",
       "    }\n",
       "</style>\n",
       "<table border=\"1\" class=\"dataframe\">\n",
       "  <thead>\n",
       "    <tr style=\"text-align: right;\">\n",
       "      <th></th>\n",
       "      <th>condition</th>\n",
       "      <th>cell_type</th>\n",
       "    </tr>\n",
       "  </thead>\n",
       "  <tbody>\n",
       "    <tr>\n",
       "      <th>TAACATGAAAAGTG_p7d_F3</th>\n",
       "      <td>CREB1+ctrl</td>\n",
       "      <td>K562</td>\n",
       "    </tr>\n",
       "    <tr>\n",
       "      <th>CTATCCCTTGTGCA_p7d_G3</th>\n",
       "      <td>GABPA+ctrl</td>\n",
       "      <td>K562</td>\n",
       "    </tr>\n",
       "  </tbody>\n",
       "</table>\n",
       "</div>"
      ],
      "text/plain": [
       "                        condition cell_type\n",
       "TAACATGAAAAGTG_p7d_F3  CREB1+ctrl      K562\n",
       "CTATCCCTTGTGCA_p7d_G3  GABPA+ctrl      K562"
      ]
     },
     "execution_count": 4,
     "metadata": {},
     "output_type": "execute_result"
    }
   ],
   "source": [
    "adata.obs.head(2)"
   ]
  },
  {
   "cell_type": "markdown",
   "id": "36fdb151",
   "metadata": {},
   "source": [
    "PertNet will take it from here. The new data processing takes around 15 minutes for 5K genes and 100K cells. "
   ]
  },
  {
   "cell_type": "code",
   "execution_count": 5,
   "id": "c103dfd9",
   "metadata": {},
   "outputs": [
    {
     "name": "stderr",
     "output_type": "stream",
     "text": [
      "Trying to set attribute `.obs` of view, copying.\n",
      "... storing 'dose_val' as categorical\n",
      "Trying to set attribute `.obs` of view, copying.\n",
      "... storing 'condition_name' as categorical\n",
      "... storing 'dose_val' as categorical\n",
      "... storing 'condition_name' as categorical\n",
      "Creating pyg object for each cell in the data...\n",
      "100%|█████████████████████████████████████████████████████████████████████████| 20/20 [00:51<00:00,  2.56s/it]\n",
      "Saving new dataset pyg object at ./data/dixit/data_pyg/cell_graphs.pkl\n",
      "Done!\n",
      "Local copy of pyg dataset is detected. Loading...\n",
      "Done!\n",
      "Creating new splits....\n",
      "Saving new splits at ./data/dixit/splits/dixit_simulation_1_0.75.pkl\n",
      "Simulation split test composition:\n",
      "combo_seen0:0\n",
      "combo_seen1:0\n",
      "combo_seen2:0\n",
      "unseen_single:5\n",
      "Done!\n",
      "Creating dataloaders....\n",
      "Done!\n"
     ]
    }
   ],
   "source": [
    "import sys\n",
    "sys.path.append('../')\n",
    "\n",
    "from pertnet import PertData\n",
    "\n",
    "pert_data = PertData('./data') # specific saved folder\n",
    "pert_data.new_data_process(dataset_name = 'dixit', adata = adata) # specific dataset name and adata object\n",
    "pert_data.load(data_path = './data/dixit') # load the processed data, the path is saved folder + dataset_name\n",
    "pert_data.prepare_split(split = 'simulation', seed = 1) # get data split with seed\n",
    "pert_data.get_dataloader(batch_size = 32, test_batch_size = 128) # prepare data loader"
   ]
  },
  {
   "cell_type": "code",
   "execution_count": null,
   "id": "1395860c",
   "metadata": {},
   "outputs": [],
   "source": []
  }
 ],
 "metadata": {
  "kernelspec": {
   "display_name": "Python 3 (ipykernel)",
   "language": "python",
   "name": "python3"
  },
  "language_info": {
   "codemirror_mode": {
    "name": "ipython",
    "version": 3
   },
   "file_extension": ".py",
   "mimetype": "text/x-python",
   "name": "python",
   "nbconvert_exporter": "python",
   "pygments_lexer": "ipython3",
   "version": "3.8.11"
  }
 },
 "nbformat": 4,
 "nbformat_minor": 5
}
